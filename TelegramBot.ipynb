{
  "nbformat": 4,
  "nbformat_minor": 0,
  "metadata": {
    "colab": {
      "provenance": []
    },
    "kernelspec": {
      "name": "python3",
      "display_name": "Python 3"
    },
    "language_info": {
      "name": "python"
    }
  },
  "cells": [
    {
      "cell_type": "code",
      "source": [
        "# intall\n",
        "!pip install telebot\n",
        "!pip install pyTelegramBotAPI\n",
        "!pip install telegram\n",
        "!pip install python-telegram-bot\n",
        "!pip install telethon"
      ],
      "metadata": {
        "id": "KxX5MTgXzvLE"
      },
      "execution_count": null,
      "outputs": []
    },
    {
      "cell_type": "code",
      "source": [
        "# import\n",
        "import os\n",
        "import telebot\n",
        "import requests\n",
        "import time\n",
        "import telegram\n",
        "\n",
        "import shutil\n",
        "import time\n",
        "import pandas as pd\n",
        "from telebot import types\n",
        "from threading import Thread"
      ],
      "metadata": {
        "id": "MngFaZqNzxZ5"
      },
      "execution_count": null,
      "outputs": []
    },
    {
      "cell_type": "code",
      "execution_count": null,
      "metadata": {
        "id": "RLjQSOrDzXGN"
      },
      "outputs": [],
      "source": [
        "# TelegramBot_Final\n",
        "BOT_TOKEN = 'here_comes_your_code_iHuuCVrkPthBJwo2gA95M-suB_LDffKs'\n",
        "\n",
        "def run_bot():\n",
        "    while True:\n",
        "        try:\n",
        "            bot = telebot.TeleBot(BOT_TOKEN)\n",
        "            users_sent_autoreply = {}\n",
        "\n",
        "            @bot.message_handler(commands=['start'])\n",
        "            def send_welcome(message):\n",
        "                welcome_message = \"Hello there! 👋\\n\\n\" \\\n",
        "                                 \"Welcome to the _YOUR_COMPANY_NAME_, where you can get rewards by uploading your _KIND_OF_DATA_YOU_NEED_ to our AI training data directory 🤖\\n\" \\\n",
        "                                 \"Please take screenshots or screen capture videos of your _KIND_OF_DATA_YOU_NEED_, and send them here 💬\"\n",
        "\n",
        "                bot.send_message(message.chat.id, welcome_message)\n",
        "\n",
        "            @bot.message_handler(content_types=['photo', 'video'])\n",
        "            def handle_uploaded_file(message):\n",
        "                file_id = message.photo[-1].file_id if message.content_type == 'photo' else message.video.file_id\n",
        "                file_info = bot.get_file(file_id)\n",
        "                file_path = file_info.file_path\n",
        "                file_url = \"https://api.telegram.org/file/bot{}/{}\".format(BOT_TOKEN, file_path)\n",
        "                response = requests.get(file_url)\n",
        "\n",
        "                user_id = message.from_user.id\n",
        "                file_extension = file_path.split('.')[-1]\n",
        "                new_file_name = f\"{file_path.replace('.', f'{user_id}{message.text}.')}\"\n",
        "\n",
        "                save_path = os.path.join('/content/sample_data', new_file_name)\n",
        "                os.makedirs(os.path.dirname(save_path), exist_ok=True)\n",
        "                with open(save_path, 'wb') as file:\n",
        "                    file.write(response.content)\n",
        "\n",
        "                if user_id not in users_sent_autoreply:\n",
        "                    keyboard = types.InlineKeyboardMarkup()\n",
        "                    website_button = types.InlineKeyboardButton(text='Website', url='https://YOURWEBSITE/')\n",
        "                    whitepaper_button = types.InlineKeyboardButton(text='Whitepaper', url='https://YOURWEBSITE.documentation.suave.chat/')\n",
        "                    telegram_button = types.InlineKeyboardButton(text='Telegram', url='https://t.me/YOURWEBSITE')\n",
        "                    keyboard.add(website_button, whitepaper_button, telegram_button)\n",
        "\n",
        "                    bot.send_message(message.chat.id, \"Thank you for your contribution! We've received it successfully and will begin processing it shortly ⌛️\\n\\n\" \\\n",
        "                                      \"Before you leave, please provide your wallet address so we can distribute your reward once it is calculated 💰\")\n",
        "\n",
        "                    users_sent_autoreply[user_id] = True\n",
        "\n",
        "            @bot.message_handler(func=lambda message: len(message.text) == 48)\n",
        "            def handle_id(message):\n",
        "                bot.send_message(message.chat.id, \"Your training data is now under processing. This may take a few days, so please be patient ⌛\")\n",
        "                time.sleep(10)\n",
        "\n",
        "                keyboard = types.InlineKeyboardMarkup()\n",
        "                website_button = types.InlineKeyboardButton(text='Website', url='https://YOURWEBSITE/')\n",
        "                whitepaper_button = types.InlineKeyboardButton(text='Whitepaper', url='https://YOURWEBSITE.documentation.suave.chat/')\n",
        "                telegram_button = types.InlineKeyboardButton(text='Telegram', url='https://t.me/YOURWEBSITE')\n",
        "                keyboard.add(website_button, whitepaper_button, telegram_button)\n",
        "\n",
        "                final_message = \"While you're waiting for your training data to be evaluated, you might find our website and whitepaper helpful and don’t forget to also join our Telegram group for more updates.\"\n",
        "                bot.send_message(message.chat.id, final_message, reply_markup=keyboard)\n",
        "\n",
        "            @bot.message_handler(func=lambda message: len(message.text) != 48)\n",
        "            def handle_invalid_id(message):\n",
        "                bot.send_message(message.chat.id, \"Ooops, this looks like an invalid TON address... 😱 Please check your TON wallet and send a valid TON address.\")\n",
        "\n",
        "            bot.polling()\n",
        "        except Exception as e:\n",
        "            print(f\"An error occurred: {str(e)}\")\n",
        "            time.sleep(60)\n",
        "\n",
        "bot_thread = Thread(target=run_bot)\n",
        "bot_thread.start()\n",
        "\n",
        "while True:\n",
        "    time.sleep(60 * 60)  # Wait for 1 hour\n",
        "    bot_thread.join()\n",
        "    bot_thread = Thread(target=run_bot)\n",
        "    bot_thread.start()\n"
      ]
    }
  ]
}